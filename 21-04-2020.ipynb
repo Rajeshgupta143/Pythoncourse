{
 "cells": [
  {
   "cell_type": "markdown",
   "metadata": {},
   "source": [
    "### Regular Expressions"
   ]
  },
  {
   "cell_type": "code",
   "execution_count": 3,
   "metadata": {},
   "outputs": [],
   "source": [
    "import re"
   ]
  },
  {
   "cell_type": "code",
   "execution_count": 2,
   "metadata": {},
   "outputs": [
    {
     "name": "stdout",
     "output_type": "stream",
     "text": [
      "True\n",
      "False\n"
     ]
    }
   ],
   "source": [
    "def twodigitmatch(n):\n",
    "    pattern = '^[0-9]{3}$'\n",
    "    n= str(n)\n",
    "    if re.match(pattern,n):\n",
    "        return True\n",
    "    return False\n",
    "print(twodigitmatch(199)) #valid\n",
    "print(twodigitmatch(1000))#invalid"
   ]
  },
  {
   "cell_type": "code",
   "execution_count": 3,
   "metadata": {},
   "outputs": [
    {
     "name": "stdout",
     "output_type": "stream",
     "text": [
      "True\n",
      "False\n"
     ]
    }
   ],
   "source": [
    "def twodigitmatch(n):\n",
    "    pattern = '^[a-z]{5}$'\n",
    "    if re.match(pattern,n):\n",
    "        return True\n",
    "    return False\n",
    "print(twodigitmatch('abcde')) #valid\n",
    "print(twodigitmatch('abcdef'))#invalid"
   ]
  },
  {
   "cell_type": "code",
   "execution_count": 4,
   "metadata": {},
   "outputs": [
    {
     "name": "stdout",
     "output_type": "stream",
     "text": [
      "True\n",
      "False\n"
     ]
    }
   ],
   "source": [
    "def twodigitmatch(n):\n",
    "    pattern = '^[A-Z]{5}$'\n",
    "    if re.match(pattern,n):\n",
    "        return True\n",
    "    return False\n",
    "print(twodigitmatch('ABCDE')) #valid\n",
    "print(twodigitmatch('ABCD'))#invalid"
   ]
  },
  {
   "cell_type": "code",
   "execution_count": 7,
   "metadata": {},
   "outputs": [
    {
     "name": "stdout",
     "output_type": "stream",
     "text": [
      "True\n",
      "False\n"
     ]
    }
   ],
   "source": [
    "# Let's create the regular expression for test the username\n",
    "# parameters - min chars are 5 max chars are 12 \n",
    "def testusername(username):\n",
    "    pattern = '^[a-z]{5,12}$'\n",
    "    if re.match(pattern,username):\n",
    "        return True\n",
    "    return False\n",
    "print(testusername('rajesh'))\n",
    "print(testusername('rajeshkumargupta'))\n",
    "    "
   ]
  },
  {
   "cell_type": "code",
   "execution_count": 4,
   "metadata": {},
   "outputs": [
    {
     "name": "stdout",
     "output_type": "stream",
     "text": [
      "True\n",
      "True\n"
     ]
    }
   ],
   "source": [
    "# let's define the regular expression for the password\n",
    "# Parameters - Lowercase ,Uppercase,digit and some spcial char _ .\n",
    "# min - 6 max - 9\n",
    "def passwordtester(password):\n",
    "    pattern = '^[a-zA-Z0-9_.]{6,9}$'\n",
    "    if re.match(pattern,password):\n",
    "        return True\n",
    "    return False\n",
    "print(passwordtester('anil_1889')) # Valid\n",
    "print(passwordtester('1889_anil')) # Invalid\n"
   ]
  },
  {
   "cell_type": "code",
   "execution_count": 13,
   "metadata": {},
   "outputs": [
    {
     "name": "stdout",
     "output_type": "stream",
     "text": [
      "True\n",
      "False\n"
     ]
    }
   ],
   "source": [
    "# let's define regular expression for the indian mobile number\n",
    "# parameters - First digit should be between 6-9\n",
    "# rest of the digits canbe anything from 0-9\n",
    "# total len of indian mobail number should be 10 digit\n",
    "def indiannumber(number):\n",
    "    pattern ='^[6-9][0-9]{9}$'\n",
    "    number = str(number)\n",
    "    if re.match(pattern,number):\n",
    "        return True\n",
    "    return False\n",
    "print(indiannumber(9398622241))\n",
    "print(indiannumber(1239862241))\n"
   ]
  },
  {
   "cell_type": "code",
   "execution_count": 10,
   "metadata": {},
   "outputs": [
    {
     "name": "stdout",
     "output_type": "stream",
     "text": [
      "True\n",
      "False\n"
     ]
    }
   ],
   "source": [
    "# +91-9398622241\n",
    "def mtester(number):\n",
    "    pattern ='^[+][9][1][-][6-9][0-9]{9}$'\n",
    "    if re.match(pattern,number):\n",
    "        return True\n",
    "    return False\n",
    "print(mtester('+91-9398622241'))\n",
    "print(mtester('1239862241'))"
   ]
  },
  {
   "cell_type": "code",
   "execution_count": 15,
   "metadata": {},
   "outputs": [
    {
     "name": "stdout",
     "output_type": "stream",
     "text": [
      "True\n",
      "False\n"
     ]
    }
   ],
   "source": [
    "# 09398622241\n",
    "def mtest(mobail):\n",
    "    pattern = '^[0][6-9][0-9]{9}$'\n",
    "    if re.match(pattern,mobail):\n",
    "        return True\n",
    "    return False\n",
    "print(mtest('09398622241')) # valid\n",
    "print(mtest('1234567894'))  # invalid"
   ]
  },
  {
   "cell_type": "code",
   "execution_count": 20,
   "metadata": {},
   "outputs": [
    {
     "name": "stdout",
     "output_type": "stream",
     "text": [
      "07254050737\n",
      "True\n"
     ]
    }
   ],
   "source": [
    "# let's make one comman function\n",
    "def finalmobailetester(mobail):\n",
    "    pattern = '^[6-9][0-9]{9}$|^[+][9][1][-][6-9][0-9]{9}$|^[0][6-9][0-9]{9}$'\n",
    "    mobaile = str(mobail)\n",
    "    if re.match(pattern,mobail):\n",
    "        return True\n",
    "    return False\n",
    "#give some input and test\n",
    "mobail=(input())\n",
    "print(finalmobailetester(mobail))"
   ]
  },
  {
   "cell_type": "code",
   "execution_count": null,
   "metadata": {},
   "outputs": [],
   "source": [
    "# define a function to validate the roll number\n",
    "# 1521A0501 -- 599 - valid\n",
    "def rollnumberdigit(rollnumber):\n",
    "    pattern ='^[1][5][2][1][Aa][0][5][0-9][0-9]$'\n",
    "    rollnumber=str(rollnumber)\n",
    "    if re.match(pattern,rollnumber):\n",
    "        return True\n",
    "    return False\n",
    "rollnumber=input()\n",
    "rollnumberdigit(rollnumber)\n"
   ]
  },
  {
   "cell_type": "code",
   "execution_count": 33,
   "metadata": {},
   "outputs": [],
   "source": [
    "# Validate the EmailId\n",
    "# Username@DomainName.externsion\n",
    "# anil@dhyanahita.org\n",
    "# Parameters of the Username :\n",
    "# Len of the username should be between 6 to 15\n",
    "# This allows only lower case charecters\n",
    "# Spl symbols are also accepted(_.)\n",
    "# Parameters of domain name:\n",
    "# len should be 3 to 15\n",
    "# No spls chars\n",
    "# It all lower case characters\n",
    "# Parameters of extensions:\n",
    "# Len should be 2 to 8\n",
    "# No spl chars\n",
    "# Only lower case characters\n",
    "\n"
   ]
  },
  {
   "cell_type": "code",
   "execution_count": 15,
   "metadata": {},
   "outputs": [
    {
     "name": "stdout",
     "output_type": "stream",
     "text": [
      "True\n",
      "True\n",
      "True\n",
      "False\n"
     ]
    }
   ],
   "source": [
    "import re\n",
    "def usernameid(emailid):\n",
    "    pattern = '^[a-z][a-z0-9_.]{6,15}[@][a-z]{3,15}[.][a-z]{2,8}$'\n",
    "    if re.match(pattern,emailid):\n",
    "        return True\n",
    "    return False\n",
    "print(usernameid('anil_1234@dhyanahita.org'))\n",
    "print(usernameid('anil_raj@dhyanahita.org'))\n",
    "print(usernameid('rk8220401@dhyanahita.org'))\n",
    "print(usernameid('anil@dhyanahita.org')) # because only 4 charecter when range 6 to 15\n"
   ]
  },
  {
   "cell_type": "code",
   "execution_count": null,
   "metadata": {},
   "outputs": [],
   "source": []
  },
  {
   "cell_type": "code",
   "execution_count": null,
   "metadata": {},
   "outputs": [],
   "source": []
  },
  {
   "cell_type": "code",
   "execution_count": null,
   "metadata": {},
   "outputs": [],
   "source": []
  },
  {
   "cell_type": "code",
   "execution_count": null,
   "metadata": {},
   "outputs": [],
   "source": []
  }
 ],
 "metadata": {
  "kernelspec": {
   "display_name": "Python 3",
   "language": "python",
   "name": "python3"
  },
  "language_info": {
   "codemirror_mode": {
    "name": "ipython",
    "version": 3
   },
   "file_extension": ".py",
   "mimetype": "text/x-python",
   "name": "python",
   "nbconvert_exporter": "python",
   "pygments_lexer": "ipython3",
   "version": "3.7.6"
  }
 },
 "nbformat": 4,
 "nbformat_minor": 4
}
