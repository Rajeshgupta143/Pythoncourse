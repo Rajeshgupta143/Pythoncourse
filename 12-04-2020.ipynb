{
 "cells": [
  {
   "cell_type": "markdown",
   "metadata": {},
   "source": [
    "#1Write a Python function that takes two lists and returns True if they have at least one common member else False."
   ]
  },
  {
   "cell_type": "code",
   "execution_count": 23,
   "metadata": {},
   "outputs": [
    {
     "data": {
      "text/plain": [
       "'true'"
      ]
     },
     "execution_count": 23,
     "metadata": {},
     "output_type": "execute_result"
    }
   ],
   "source": [
    "def listfunctionex(l1,l2):\n",
    "    for i in range(len(l1)):\n",
    "        for j in range(len(l2)):\n",
    "            if l1[i]==l2[j]:\n",
    "                return \"true\"\n",
    "        \n",
    "    return \"false\"\n",
    "l1=[1,2,4,5,6]\n",
    "l2=[3,12,9,11,4]\n",
    "listfunctionex(l1,l2)"
   ]
  },
  {
   "cell_type": "markdown",
   "metadata": {},
   "source": [
    "#2Function to find the second large item from the list\n",
    "#Input  :   [1,19,6,2,8,18,3]\n",
    "Output :   18"
   ]
  },
  {
   "cell_type": "code",
   "execution_count": 32,
   "metadata": {},
   "outputs": [
    {
     "data": {
      "text/plain": [
       "18"
      ]
     },
     "execution_count": 32,
     "metadata": {},
     "output_type": "execute_result"
    }
   ],
   "source": [
    "def secondlargenumber(l1):\n",
    "    l1.sort()\n",
    "    l1.reverse()\n",
    "    return l1[1]\n",
    "\n",
    "l1=[1,19,6,2,8,18,3]\n",
    "secondlargenumber(l1)\n",
    "        "
   ]
  },
  {
   "cell_type": "markdown",
   "metadata": {},
   "source": [
    "#3Function for Conversion - Number to List\n",
    "#Input  -- Number\n",
    "#Output -- list\n",
    "#Test Cases:-\n",
    "#14569 -- [1,4,5,6,9]\n",
    "#1990  -- [1,9,9,0]"
   ]
  },
  {
   "cell_type": "code",
   "execution_count": 23,
   "metadata": {},
   "outputs": [
    {
     "data": {
      "text/plain": [
       "[1, 4, 5, 6, 9]"
      ]
     },
     "execution_count": 23,
     "metadata": {},
     "output_type": "execute_result"
    }
   ],
   "source": [
    "def numbertolist(a):\n",
    "    x=[]\n",
    "    while(a!=0):\n",
    "        z=a%10\n",
    "        x.append(z)\n",
    "        a=a//10\n",
    "    x.reverse()\n",
    "    return x\n",
    "numbertolist(14569)\n",
    "     \n"
   ]
  },
  {
   "cell_type": "markdown",
   "metadata": {},
   "source": [
    "#Write a python Function which accepts list as an input and returns formatted list as output to the screen.\n",
    "#Input  : List\n",
    "\n",
    "#Output : Formatted Output\n",
    "\n",
    "#Test Case :\n",
    "\n",
    "#[1,2,3,4,5] -- [1,3,8,15,5]\n",
    "\n",
    "#[6,5,2,8,2] -- [6,12,40,4,2]"
   ]
  },
  {
   "cell_type": "code",
   "execution_count": 30,
   "metadata": {},
   "outputs": [
    {
     "name": "stdout",
     "output_type": "stream",
     "text": [
      "[3]\n",
      "[3, 8]\n",
      "[3, 8, 15]\n",
      "[3, 8, 15, 24]\n",
      "[3, 8, 15, 24, 35]\n"
     ]
    },
    {
     "ename": "IndexError",
     "evalue": "list index out of range",
     "output_type": "error",
     "traceback": [
      "\u001b[1;31m---------------------------------------------------------------------------\u001b[0m",
      "\u001b[1;31mIndexError\u001b[0m                                Traceback (most recent call last)",
      "\u001b[1;32m<ipython-input-30-f330e6798735>\u001b[0m in \u001b[0;36m<module>\u001b[1;34m\u001b[0m\n\u001b[0;32m      6\u001b[0m         \u001b[0mprint\u001b[0m\u001b[1;33m(\u001b[0m\u001b[0mx\u001b[0m\u001b[1;33m)\u001b[0m\u001b[1;33m\u001b[0m\u001b[1;33m\u001b[0m\u001b[0m\n\u001b[0;32m      7\u001b[0m \u001b[0mli\u001b[0m\u001b[1;33m=\u001b[0m\u001b[1;33m[\u001b[0m\u001b[1;36m1\u001b[0m\u001b[1;33m,\u001b[0m\u001b[1;36m2\u001b[0m\u001b[1;33m,\u001b[0m\u001b[1;36m3\u001b[0m\u001b[1;33m,\u001b[0m\u001b[1;36m4\u001b[0m\u001b[1;33m,\u001b[0m\u001b[1;36m5\u001b[0m\u001b[1;33m,\u001b[0m\u001b[1;36m6\u001b[0m\u001b[1;33m,\u001b[0m\u001b[1;36m7\u001b[0m\u001b[1;33m]\u001b[0m\u001b[1;33m\u001b[0m\u001b[1;33m\u001b[0m\u001b[0m\n\u001b[1;32m----> 8\u001b[1;33m \u001b[0mfunctionexa1\u001b[0m\u001b[1;33m(\u001b[0m\u001b[0mli\u001b[0m\u001b[1;33m)\u001b[0m\u001b[1;33m\u001b[0m\u001b[1;33m\u001b[0m\u001b[0m\n\u001b[0m\u001b[0;32m      9\u001b[0m \u001b[1;33m\u001b[0m\u001b[0m\n\u001b[0;32m     10\u001b[0m \u001b[1;33m\u001b[0m\u001b[0m\n",
      "\u001b[1;32m<ipython-input-30-f330e6798735>\u001b[0m in \u001b[0;36mfunctionexa1\u001b[1;34m(li)\u001b[0m\n\u001b[0;32m      2\u001b[0m     \u001b[0mx\u001b[0m\u001b[1;33m=\u001b[0m\u001b[1;33m[\u001b[0m\u001b[1;33m]\u001b[0m\u001b[1;33m\u001b[0m\u001b[1;33m\u001b[0m\u001b[0m\n\u001b[0;32m      3\u001b[0m     \u001b[1;32mfor\u001b[0m \u001b[0mi\u001b[0m \u001b[1;32min\u001b[0m \u001b[0mrange\u001b[0m \u001b[1;33m(\u001b[0m\u001b[0mlen\u001b[0m\u001b[1;33m(\u001b[0m\u001b[0mli\u001b[0m\u001b[1;33m)\u001b[0m\u001b[1;33m)\u001b[0m\u001b[1;33m:\u001b[0m\u001b[1;33m\u001b[0m\u001b[1;33m\u001b[0m\u001b[0m\n\u001b[1;32m----> 4\u001b[1;33m         \u001b[0mz\u001b[0m\u001b[1;33m=\u001b[0m\u001b[0mli\u001b[0m\u001b[1;33m[\u001b[0m\u001b[0mi\u001b[0m\u001b[1;33m]\u001b[0m\u001b[1;33m*\u001b[0m\u001b[0mli\u001b[0m\u001b[1;33m[\u001b[0m\u001b[0mi\u001b[0m\u001b[1;33m+\u001b[0m\u001b[1;36m2\u001b[0m\u001b[1;33m]\u001b[0m\u001b[1;33m\u001b[0m\u001b[1;33m\u001b[0m\u001b[0m\n\u001b[0m\u001b[0;32m      5\u001b[0m         \u001b[0mx\u001b[0m\u001b[1;33m.\u001b[0m\u001b[0mappend\u001b[0m\u001b[1;33m(\u001b[0m\u001b[0mz\u001b[0m\u001b[1;33m)\u001b[0m\u001b[1;33m\u001b[0m\u001b[1;33m\u001b[0m\u001b[0m\n\u001b[0;32m      6\u001b[0m         \u001b[0mprint\u001b[0m\u001b[1;33m(\u001b[0m\u001b[0mx\u001b[0m\u001b[1;33m)\u001b[0m\u001b[1;33m\u001b[0m\u001b[1;33m\u001b[0m\u001b[0m\n",
      "\u001b[1;31mIndexError\u001b[0m: list index out of range"
     ]
    }
   ],
   "source": [
    "def functionexa1(li):\n",
    "    x=[]\n",
    "    for i in range (len(li)):\n",
    "        z=li[i]*li[i+2]\n",
    "        x.append(z)\n",
    "        print(x)\n",
    "li=[1,2,3,4,5,6,7]\n",
    "functionexa1(li)\n",
    "\n",
    "        "
   ]
  },
  {
   "cell_type": "code",
   "execution_count": null,
   "metadata": {},
   "outputs": [],
   "source": []
  },
  {
   "cell_type": "code",
   "execution_count": null,
   "metadata": {},
   "outputs": [],
   "source": [
    "#7Write a python function that takes a number as  an input return True if it is a Adam number else False.\n",
    "\n",
    "#Explanation : \n",
    "\n",
    "#input : 12\n",
    "\n",
    "#output : True\n",
    "\n",
    "#Reason : 12 * 12 =144 and reverse of 12 is 21==>21 * 21 =441"
   ]
  },
  {
   "cell_type": "code",
   "execution_count": 25,
   "metadata": {},
   "outputs": [
    {
     "name": "stdout",
     "output_type": "stream",
     "text": [
      "441\n",
      "21\n",
      "441\n"
     ]
    },
    {
     "data": {
      "text/plain": [
       "'true'"
      ]
     },
     "execution_count": 25,
     "metadata": {},
     "output_type": "execute_result"
    }
   ],
   "source": [
    "def adamnumber(num):\n",
    "    rev=0\n",
    "    rev1=0\n",
    "    z=num*num\n",
    "    while(z!=0):\n",
    "        x=z%10\n",
    "        rev=rev*10+x\n",
    "        z=z//10\n",
    "    print(rev)\n",
    "    while(num!=0):\n",
    "        y=num%10\n",
    "        rev1=rev1*10+y\n",
    "        num=num//10\n",
    "    print(rev1)\n",
    "    rev2=rev1*rev1\n",
    "    print(rev2)\n",
    "    if(rev==rev2):\n",
    "        return (\"true\")\n",
    "    else:\n",
    "        return ('false')\n",
    "\n",
    "adamnumber(12)    \n",
    "    "
   ]
  },
  {
   "cell_type": "code",
   "execution_count": null,
   "metadata": {},
   "outputs": [],
   "source": [
    "#8Write a python function that takes a number as  an input and check whether the given number is palindrome or not\n",
    "\n",
    "#if it is a palindrome number print the number on the screen\n",
    "\n",
    "#if it is not a palindrome number reverse that number and add it to previous number repeat this until will get a palindrome number and print that palindrome number on the screen\n",
    "\n",
    "#input: 127\n",
    "\n",
    "#output: 848"
   ]
  },
  {
   "cell_type": "code",
   "execution_count": 26,
   "metadata": {},
   "outputs": [
    {
     "name": "stdout",
     "output_type": "stream",
     "text": [
      "721\n"
     ]
    },
    {
     "data": {
      "text/plain": [
       "('it is next palindrome', 848)"
      ]
     },
     "execution_count": 26,
     "metadata": {},
     "output_type": "execute_result"
    }
   ],
   "source": [
    "def palindromenumber(n):\n",
    "    x=n\n",
    "    rev=0\n",
    "    while(n!=0):\n",
    "        z=n%10\n",
    "        rev=rev*10+z\n",
    "        n=n//10\n",
    "    print(rev)\n",
    "    if(rev==x):\n",
    "        return ('it is palindrome')\n",
    "    else:\n",
    "        y=rev+x\n",
    "        return ('it is next palindrome',y)\n",
    "        \n",
    "palindromenumber(127)"
   ]
  },
  {
   "cell_type": "code",
   "execution_count": null,
   "metadata": {},
   "outputs": [],
   "source": []
  },
  {
   "cell_type": "code",
   "execution_count": null,
   "metadata": {},
   "outputs": [],
   "source": []
  },
  {
   "cell_type": "code",
   "execution_count": null,
   "metadata": {},
   "outputs": [],
   "source": []
  },
  {
   "cell_type": "code",
   "execution_count": null,
   "metadata": {},
   "outputs": [],
   "source": []
  }
 ],
 "metadata": {
  "kernelspec": {
   "display_name": "Python 3",
   "language": "python",
   "name": "python3"
  },
  "language_info": {
   "codemirror_mode": {
    "name": "ipython",
    "version": 3
   },
   "file_extension": ".py",
   "mimetype": "text/x-python",
   "name": "python",
   "nbconvert_exporter": "python",
   "pygments_lexer": "ipython3",
   "version": "3.7.6"
  }
 },
 "nbformat": 4,
 "nbformat_minor": 4
}
