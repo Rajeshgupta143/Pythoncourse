{
 "cells": [
  {
   "cell_type": "markdown",
   "metadata": {},
   "source": [
    "### File Management in python\n",
    "- create a file\n",
    "- write the data to the file\n",
    "- read the data from the file\n",
    "- some examples on file data"
   ]
  },
  {
   "cell_type": "code",
   "execution_count": null,
   "metadata": {},
   "outputs": [],
   "source": [
    "# Modes of the file -w, r and a\n",
    "#w - write,r - read, a - append\n",
    "# w - if the file is not present the specified dir\n",
    "# then it will create a file and supplied to the file\n",
    "# if the file is already exists then the data will be"
   ]
  },
  {
   "cell_type": "code",
   "execution_count": 1,
   "metadata": {},
   "outputs": [
    {
     "name": "stdout",
     "output_type": "stream",
     "text": [
      "File is created and data is written\n"
     ]
    }
   ],
   "source": [
    "# define a function to create a file\n",
    "def createfile(filename):\n",
    "    f = open(filename,'w')\n",
    "    for i in range(10):\n",
    "        f.write('this is %d line\\n'%i)\n",
    "    print('File is created and data is written')\n",
    "    f.close()\n",
    "    return\n",
    "createfile('data.txt')"
   ]
  },
  {
   "cell_type": "code",
   "execution_count": 2,
   "metadata": {},
   "outputs": [
    {
     "name": "stdout",
     "output_type": "stream",
     "text": [
      " Volume in drive C has no label.\n",
      " Volume Serial Number is E267-0C25\n",
      "\n",
      " Directory of C:\\Users\\CHAHAT\\Python programming Course\n",
      "\n",
      "04/16/2020  09:43 AM    <DIR>          .\n",
      "04/16/2020  09:43 AM    <DIR>          ..\n",
      "04/16/2020  09:28 AM    <DIR>          .ipynb_checkpoints\n",
      "04/08/2020  11:58 AM             3,949 08-04-2020.ipynb\n",
      "04/09/2020  08:52 PM            12,086 09-04-2020.ipynb\n",
      "04/11/2020  10:02 AM            12,957 10-04-2020.ipynb\n",
      "04/15/2020  05:36 PM            12,229 11-04-2020.ipynb\n",
      "04/13/2020  10:33 AM             9,918 12-04-2020.ipynb\n",
      "04/15/2020  10:32 PM             7,033 14-04-2020.ipynb\n",
      "04/16/2020  09:27 AM            17,704 15-04-2020.ipynb\n",
      "04/16/2020  09:42 AM             2,744 16-04-2020.ipynb\n",
      "04/16/2020  09:43 AM               160 data.txt\n",
      "04/08/2020  11:14 AM            57,959 python-logo.png\n",
      "04/10/2020  10:05 AM                72 Untitled.ipynb\n",
      "              11 File(s)        136,811 bytes\n",
      "               3 Dir(s)  22,305,148,928 bytes free\n"
     ]
    }
   ],
   "source": [
    "ls"
   ]
  },
  {
   "cell_type": "code",
   "execution_count": 3,
   "metadata": {},
   "outputs": [
    {
     "data": {
      "text/plain": [
       "'C:\\\\Users\\\\CHAHAT\\\\Python programming Course'"
      ]
     },
     "execution_count": 3,
     "metadata": {},
     "output_type": "execute_result"
    }
   ],
   "source": [
    "pwd"
   ]
  },
  {
   "cell_type": "code",
   "execution_count": 1,
   "metadata": {},
   "outputs": [],
   "source": [
    "#define a function\n",
    "def createfile1(filename):\n",
    "    f=open(filename,'w')\n",
    "    f.write('file is created the new data')\n",
    "    f.close()\n",
    "    return \n",
    "createfile1('data.txt')\n",
    "\n",
    "    "
   ]
  },
  {
   "cell_type": "code",
   "execution_count": 7,
   "metadata": {},
   "outputs": [
    {
     "name": "stdout",
     "output_type": "stream",
     "text": [
      "data is written\n"
     ]
    }
   ],
   "source": [
    "# define a function to append the data\n",
    "# a - append -- if the file is already present then the \n",
    "# data will be appended at the end of the line\n",
    "def appenddata(filename):\n",
    "    f=open(filename,'a')\n",
    "    for i in range(10):\n",
    "        f.write('this is %d line\\n' %i)\n",
    "    print('data is written')\n",
    "    f.close()\n",
    "    return\n",
    "appenddata('data.txt')"
   ]
  },
  {
   "cell_type": "code",
   "execution_count": 8,
   "metadata": {},
   "outputs": [
    {
     "name": "stdout",
     "output_type": "stream",
     "text": [
      "file is created the new datathis is 0 line\n",
      "this is 1 line\n",
      "this is 2 line\n",
      "this is 3 line\n",
      "this is 4 line\n",
      "this is 5 line\n",
      "this is 6 line\n",
      "this is 7 line\n",
      "this is 8 line\n",
      "this is 9 line\n",
      "\n"
     ]
    }
   ],
   "source": [
    "# Define a function for reading the file\n",
    "def readfiledata(filename):\n",
    "    f = open(filename,'r')\n",
    "    if f.mode == 'r':\n",
    "        x=f.read()\n",
    "        print(x)\n",
    "    return\n",
    "readfiledata('data.txt')"
   ]
  },
  {
   "cell_type": "code",
   "execution_count": null,
   "metadata": {},
   "outputs": [],
   "source": [
    "# Data Analysis - Data scince concept"
   ]
  },
  {
   "cell_type": "code",
   "execution_count": 9,
   "metadata": {},
   "outputs": [
    {
     "name": "stdout",
     "output_type": "stream",
     "text": [
      "['python', 'programming', 'lang']\n"
     ]
    }
   ],
   "source": [
    "s = 'python programming lang'\n",
    "li= s.split()     #split always give output in list\n",
    "print(li)"
   ]
  },
  {
   "cell_type": "code",
   "execution_count": 14,
   "metadata": {},
   "outputs": [
    {
     "name": "stdout",
     "output_type": "stream",
     "text": [
      "['python progr', 'mming l', 'ng']\n"
     ]
    }
   ],
   "source": [
    "s1 = 'python programming lang'\n",
    "li = s1.split('a')\n",
    "print(li)"
   ]
  },
  {
   "cell_type": "code",
   "execution_count": 11,
   "metadata": {},
   "outputs": [
    {
     "name": "stdout",
     "output_type": "stream",
     "text": [
      "['python pro', 'mming lang']\n"
     ]
    }
   ],
   "source": [
    "s2 = 'python programming lang'\n",
    "li = s2.split('gra')\n",
    "print(li)"
   ]
  },
  {
   "cell_type": "code",
   "execution_count": 2,
   "metadata": {},
   "outputs": [
    {
     "name": "stdout",
     "output_type": "stream",
     "text": [
      "['file', 'is', 'created', 'the', 'new', 'datathis', 'is', '0', 'line', 'this', 'is', '1', 'line', 'this', 'is', '2', 'line', 'this', 'is', '3', 'line', 'this', 'is', '4', 'line', 'this', 'is', '5', 'line', 'this', 'is', '6', 'line', 'this', 'is', '7', 'line', 'this', 'is', '8', 'line', 'this', 'is', '9', 'line', 'this', 'is', '0', 'line', 'this', 'is', '1', 'line', 'this', 'is', '2', 'line', 'this', 'is', '3', 'line', 'this', 'is', '4', 'line', 'this', 'is', '5', 'line', 'this', 'is', '6', 'line', 'this', 'is', '7', 'line', 'this', 'is', '8', 'line', 'this', 'is', '9', 'line']\n"
     ]
    },
    {
     "data": {
      "text/plain": [
       "85"
      ]
     },
     "execution_count": 2,
     "metadata": {},
     "output_type": "execute_result"
    }
   ],
   "source": [
    "# word count of the given file\n",
    "def wordcount(filename):\n",
    "    # f= open(filename,'r')\n",
    "    with open(filename,'r') as f:\n",
    "        if f.mode == 'r':\n",
    "            x = f.read()\n",
    "            li = x.split()\n",
    "            print(li)\n",
    "    return len(li)\n",
    "wordcount('data.txt')"
   ]
  },
  {
   "cell_type": "code",
   "execution_count": 19,
   "metadata": {},
   "outputs": [
    {
     "data": {
      "text/plain": [
       "9"
      ]
     },
     "execution_count": 19,
     "metadata": {},
     "output_type": "execute_result"
    }
   ],
   "source": [
    "# word count for the specific word\n",
    "# input - 'is'\n",
    "# output - How many times it is repeated\n",
    "def specificwordcount(filename,word):\n",
    "    f=open(filename,'r')\n",
    "    if f.mode == 'r':\n",
    "        x=f.read()\n",
    "        li = x.split()\n",
    "    return li.count(word)\n",
    "specificwordcount('data.txt','this')    "
   ]
  },
  {
   "cell_type": "code",
   "execution_count": 21,
   "metadata": {},
   "outputs": [
    {
     "data": {
      "text/plain": [
       "178"
      ]
     },
     "execution_count": 21,
     "metadata": {},
     "output_type": "execute_result"
    }
   ],
   "source": [
    "# define a function for finding the char count\n",
    "def charcount(filename):\n",
    "    with open(filename,'r') as f:\n",
    "        if f.mode == 'r':\n",
    "            x =f.read()\n",
    "            li = list(x)\n",
    "        return len(li)\n",
    "charcount('data.txt')"
   ]
  },
  {
   "cell_type": "code",
   "execution_count": 8,
   "metadata": {},
   "outputs": [
    {
     "name": "stdout",
     "output_type": "stream",
     "text": [
      "['P', 'y', 't', 'h', 'o', 'n']\n"
     ]
    }
   ],
   "source": [
    "s1 ='Python'\n",
    "li =list(s1)\n",
    "print(li)"
   ]
  },
  {
   "cell_type": "code",
   "execution_count": 18,
   "metadata": {},
   "outputs": [
    {
     "name": "stdout",
     "output_type": "stream",
     "text": [
      "['P', 'y', 't', 'h', 'o', 'n', ' ', 'P', 'r', 'o', 'g', 'r', 'a', 'm', 'm', 'i', 'n', 'g']\n",
      "18\n"
     ]
    }
   ],
   "source": [
    "s2 = 'Python Programming'\n",
    "a = list(s2)\n",
    "print(a)\n",
    "print(len(a))"
   ]
  },
  {
   "cell_type": "code",
   "execution_count": 6,
   "metadata": {},
   "outputs": [
    {
     "data": {
      "text/plain": [
       "328"
      ]
     },
     "execution_count": 6,
     "metadata": {},
     "output_type": "execute_result"
    }
   ],
   "source": [
    "# Find the Lower and Upper case word count from the file\n",
    "def countlowerchar(filename):\n",
    "    f=open(filename,'r')\n",
    "    cnt=0\n",
    "    if f.mode == 'r':\n",
    "        x=f.read()\n",
    "        li=list(x)\n",
    "        for i in range(len(li)):\n",
    "            if li[0].islower():\n",
    "                cnt=cnt+1\n",
    "        return cnt\n",
    "countlowerchar('data.txt')\n",
    "\n"
   ]
  },
  {
   "cell_type": "code",
   "execution_count": 7,
   "metadata": {},
   "outputs": [
    {
     "data": {
      "text/plain": [
       "21"
      ]
     },
     "execution_count": 7,
     "metadata": {},
     "output_type": "execute_result"
    }
   ],
   "source": [
    "# Find the number of lines in the given file\n",
    "def countlines(filename):\n",
    "    f=open(filename,'r')\n",
    "    x=f.read()\n",
    "    li=x.split('\\n')\n",
    "    return len(li)\n",
    "countlines('data.txt')"
   ]
  },
  {
   "cell_type": "code",
   "execution_count": 8,
   "metadata": {},
   "outputs": [
    {
     "data": {
      "text/plain": [
       "'C:\\\\Users\\\\CHAHAT\\\\Python programming Course'"
      ]
     },
     "execution_count": 8,
     "metadata": {},
     "output_type": "execute_result"
    }
   ],
   "source": [
    "pwd\n"
   ]
  },
  {
   "cell_type": "code",
   "execution_count": null,
   "metadata": {},
   "outputs": [],
   "source": []
  },
  {
   "cell_type": "code",
   "execution_count": null,
   "metadata": {},
   "outputs": [],
   "source": []
  }
 ],
 "metadata": {
  "kernelspec": {
   "display_name": "Python 3",
   "language": "python",
   "name": "python3"
  },
  "language_info": {
   "codemirror_mode": {
    "name": "ipython",
    "version": 3
   },
   "file_extension": ".py",
   "mimetype": "text/x-python",
   "name": "python",
   "nbconvert_exporter": "python",
   "pygments_lexer": "ipython3",
   "version": "3.7.6"
  }
 },
 "nbformat": 4,
 "nbformat_minor": 4
}
