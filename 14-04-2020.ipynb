{
 "cells": [
  {
   "cell_type": "markdown",
   "metadata": {},
   "source": [
    "### Binary search\n",
    "- it can be applied on Unique list\n",
    "- it applied only on sorted list"
   ]
  },
  {
   "cell_type": "code",
   "execution_count": 1,
   "metadata": {},
   "outputs": [
    {
     "name": "stdout",
     "output_type": "stream",
     "text": [
      "found\n"
     ]
    }
   ],
   "source": [
    "# Define a function for binary search\n",
    "def binarysearch(li,taritem):\n",
    "    leftindex=0\n",
    "    rightindex=len(li)-1\n",
    "    while leftindex <= rightindex:\n",
    "        midindex = leftindex+(rightindex - leftindex)//2\n",
    "        if li[midindex] == taritem:\n",
    "            return midindex\n",
    "        if li[midindex]<taritem:\n",
    "            leftindex = midindex+1\n",
    "        else:\n",
    "            rightindex=midindex-1\n",
    "    return -1\n",
    "li=[1,6,11,21,25,32,45,99]\n",
    "taritem=21\n",
    "res=binarysearch(li,taritem)\n",
    "if res != -1:\n",
    "    print(\"found\")\n",
    "else:\n",
    "    print('not found')"
   ]
  },
  {
   "cell_type": "markdown",
   "metadata": {},
   "source": [
    "### Data structure -Dict\n",
    "- Dict is also one of the comman data structure in python\n",
    "- Dict object can store the data in curly braces {}\n",
    "- Dict object is works based on ***key and value***\n",
    "- Dict object seperates the value and key by using colon symbol:\n",
    "- Dict keys should be unique always"
   ]
  },
  {
   "cell_type": "code",
   "execution_count": 3,
   "metadata": {},
   "outputs": [
    {
     "name": "stdout",
     "output_type": "stream",
     "text": [
      "{'name': 'Rajesh', 'mobile': 7254050737, 'address': 'Hyderabad'}\n"
     ]
    }
   ],
   "source": [
    "#d = {} Empty dict object\n",
    "d = {\"name\":\"Rajesh\",\"mobile\":7254050737,\"address\":\"Hyderabad\"}\n",
    "print(d)"
   ]
  },
  {
   "cell_type": "code",
   "execution_count": 4,
   "metadata": {},
   "outputs": [
    {
     "name": "stdout",
     "output_type": "stream",
     "text": [
      "Rajesh\n"
     ]
    }
   ],
   "source": [
    "print(d['name'])"
   ]
  },
  {
   "cell_type": "code",
   "execution_count": 5,
   "metadata": {},
   "outputs": [
    {
     "ename": "KeyError",
     "evalue": "'Name'",
     "output_type": "error",
     "traceback": [
      "\u001b[1;31m---------------------------------------------------------------------------\u001b[0m",
      "\u001b[1;31mKeyError\u001b[0m                                  Traceback (most recent call last)",
      "\u001b[1;32m<ipython-input-5-74782f86b201>\u001b[0m in \u001b[0;36m<module>\u001b[1;34m\u001b[0m\n\u001b[1;32m----> 1\u001b[1;33m \u001b[0mprint\u001b[0m\u001b[1;33m(\u001b[0m\u001b[0md\u001b[0m\u001b[1;33m[\u001b[0m\u001b[1;34m'Name'\u001b[0m\u001b[1;33m]\u001b[0m\u001b[1;33m)\u001b[0m\u001b[1;33m\u001b[0m\u001b[1;33m\u001b[0m\u001b[0m\n\u001b[0m",
      "\u001b[1;31mKeyError\u001b[0m: 'Name'"
     ]
    }
   ],
   "source": [
    "print(d['Name'])"
   ]
  },
  {
   "cell_type": "code",
   "execution_count": 6,
   "metadata": {},
   "outputs": [
    {
     "name": "stdout",
     "output_type": "stream",
     "text": [
      "Raju\n"
     ]
    }
   ],
   "source": [
    "# update the value\n",
    "d['name']='Raju'\n",
    "print(d['name'])"
   ]
  },
  {
   "cell_type": "code",
   "execution_count": 7,
   "metadata": {},
   "outputs": [
    {
     "name": "stdout",
     "output_type": "stream",
     "text": [
      "{'name': 'Raju', 'address': 'Hyderabad'}\n"
     ]
    }
   ],
   "source": [
    "#delete the dict single key\n",
    "del d['mobile']\n",
    "print(d)"
   ]
  },
  {
   "cell_type": "code",
   "execution_count": null,
   "metadata": {},
   "outputs": [],
   "source": [
    "# delete the entire dict object\n",
    "del d"
   ]
  },
  {
   "cell_type": "markdown",
   "metadata": {},
   "source": [
    "### Contact Application\n",
    "- use of Dict object\n",
    "    - Add new contact"
   ]
  },
  {
   "cell_type": "code",
   "execution_count": 17,
   "metadata": {},
   "outputs": [
    {
     "name": "stdout",
     "output_type": "stream",
     "text": [
      "contacts is added\n",
      "contacts is added\n",
      "contacts name is alredy exists\n",
      "contacts is added\n"
     ]
    }
   ],
   "source": [
    "# Define a function for add new contacts\n",
    "contacts = {}     #empty dict object\n",
    "def addnewcontact(name,phone):\n",
    "    if name not in contacts:\n",
    "            contacts[name]=phone\n",
    "            print('contacts is added')\n",
    "    else:\n",
    "        print('contacts name is alredy exists')\n",
    "    return\n",
    "addnewcontact('anil',9398622241)# correct\n",
    "addnewcontact('rajesh',9398622241)# correct\n",
    "addnewcontact('anil',9398622241)# error correct\n",
    "addnewcontact('bikash',939862224132)# correct"
   ]
  },
  {
   "cell_type": "code",
   "execution_count": 32,
   "metadata": {},
   "outputs": [
    {
     "name": "stdout",
     "output_type": "stream",
     "text": [
      "{'anil': 9398622241, 'rajesh': 9398622241, 'bikash': 939862224132}\n",
      "dict_keys(['anil', 'rajesh', 'bikash'])\n",
      "dict_values([9398622241, 9398622241, 939862224132])\n"
     ]
    }
   ],
   "source": [
    "print(contacts)\n",
    "print(contacts.keys())\n",
    "print(contacts.values())\n"
   ]
  },
  {
   "cell_type": "code",
   "execution_count": 36,
   "metadata": {},
   "outputs": [
    {
     "name": "stdout",
     "output_type": "stream",
     "text": [
      "rajesh : 9398622241\n",
      "Data is not present\n"
     ]
    }
   ],
   "source": [
    "# define a function for search the contact details\n",
    "def searchcontact(name):\n",
    "    if name in contacts:\n",
    "        print(name,':',contacts[name])\n",
    "    else:\n",
    "        print('Data is not present')\n",
    "    return\n",
    "searchcontact('rajesh')\n",
    "searchcontact('nikash')"
   ]
  },
  {
   "cell_type": "code",
   "execution_count": null,
   "metadata": {},
   "outputs": [],
   "source": []
  },
  {
   "cell_type": "code",
   "execution_count": null,
   "metadata": {},
   "outputs": [],
   "source": []
  },
  {
   "cell_type": "code",
   "execution_count": null,
   "metadata": {},
   "outputs": [],
   "source": []
  },
  {
   "cell_type": "code",
   "execution_count": null,
   "metadata": {},
   "outputs": [],
   "source": []
  },
  {
   "cell_type": "code",
   "execution_count": null,
   "metadata": {},
   "outputs": [],
   "source": []
  }
 ],
 "metadata": {
  "kernelspec": {
   "display_name": "Python 3",
   "language": "python",
   "name": "python3"
  },
  "language_info": {
   "codemirror_mode": {
    "name": "ipython",
    "version": 3
   },
   "file_extension": ".py",
   "mimetype": "text/x-python",
   "name": "python",
   "nbconvert_exporter": "python",
   "pygments_lexer": "ipython3",
   "version": "3.7.6"
  }
 },
 "nbformat": 4,
 "nbformat_minor": 4
}
