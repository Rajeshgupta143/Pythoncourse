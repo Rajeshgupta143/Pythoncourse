{
 "cells": [
  {
   "cell_type": "code",
   "execution_count": 2,
   "metadata": {},
   "outputs": [
    {
     "name": "stdout",
     "output_type": "stream",
     "text": [
      "data is written\n"
     ]
    }
   ],
   "source": [
    "def appenddata(filename):\n",
    "    f=open(filename,'a')\n",
    "    for i in range(10):\n",
    "        f.write('this is %d line\\n' %i)\n",
    "    print('data is written')\n",
    "    f.close()\n",
    "    return\n",
    "appenddata('data.txt')"
   ]
  },
  {
   "cell_type": "code",
   "execution_count": null,
   "metadata": {},
   "outputs": [],
   "source": [
    "# lower case -- 97-122"
   ]
  },
  {
   "cell_type": "code",
   "execution_count": 4,
   "metadata": {},
   "outputs": [
    {
     "data": {
      "text/plain": [
       "223"
      ]
     },
     "execution_count": 4,
     "metadata": {},
     "output_type": "execute_result"
    }
   ],
   "source": [
    "## Find the Lower case word count from the file\n",
    "def lowercasechar(filename):\n",
    "    cnt=0\n",
    "    with open(filename,'r') as f:\n",
    "        if f.mode=='r':\n",
    "            x= f.read() #read() method will returns a string\n",
    "            # here x is one string\n",
    "            li = list(x)  # which converts the string into seq charcter\n",
    "    for i in range(len(li)):\n",
    "        if li[i].islower():\n",
    "            cnt=cnt+1\n",
    "    #for i in range(len(li)):\n",
    "       # if ord(li[i]) >= 97 and ord(li[i]) <= 122:\n",
    "          #  cnt+=1\n",
    "    return cnt\n",
    "lowercasechar('data.txt')"
   ]
  },
  {
   "cell_type": "code",
   "execution_count": 39,
   "metadata": {},
   "outputs": [
    {
     "data": {
      "text/plain": [
       "0"
      ]
     },
     "execution_count": 39,
     "metadata": {},
     "output_type": "execute_result"
    }
   ],
   "source": [
    "# Find the upper case word count from the file\n",
    "def uppercaseword(filename):\n",
    "    cnt=0\n",
    "    f=open(filename,'r')\n",
    "    x=f.read()\n",
    "    li=list(x)\n",
    "    for i in range(len(li)):\n",
    "        if li[i].isupper():\n",
    "            cnt=cnt+1\n",
    "    return cnt\n",
    "uppercaseword('data.txt')\n",
    "    "
   ]
  },
  {
   "cell_type": "code",
   "execution_count": 3,
   "metadata": {},
   "outputs": [
    {
     "data": {
      "text/plain": [
       "21"
      ]
     },
     "execution_count": 3,
     "metadata": {},
     "output_type": "execute_result"
    }
   ],
   "source": [
    "# let's a define a function for finding the number of lines\n",
    "def countnumberlines(filename):\n",
    "    with open (filename,'r') as f:\n",
    "        if f.mode == 'r':\n",
    "            s=f.read()\n",
    "            li = s.split('\\n')\n",
    "    return len(li)\n",
    "countnumberlines('data.txt')"
   ]
  },
  {
   "cell_type": "markdown",
   "metadata": {},
   "source": [
    "### String in Python Programming"
   ]
  },
  {
   "cell_type": "code",
   "execution_count": 7,
   "metadata": {},
   "outputs": [
    {
     "name": "stdout",
     "output_type": "stream",
     "text": [
      "a <class 'str'> application <class 'str'>\n"
     ]
    }
   ],
   "source": [
    "s='a'\n",
    "s1 ='application'\n",
    "print(s,type(s),s1,type(s1))"
   ]
  },
  {
   "cell_type": "code",
   "execution_count": 8,
   "metadata": {},
   "outputs": [
    {
     "name": "stdout",
     "output_type": "stream",
     "text": [
      "a p p l i c a t i o n "
     ]
    }
   ],
   "source": [
    "# print the seq of chars from the string\n",
    "for i in range (len(s1)):\n",
    "    print(s1[i],end =' ')"
   ]
  },
  {
   "cell_type": "code",
   "execution_count": null,
   "metadata": {},
   "outputs": [],
   "source": []
  },
  {
   "cell_type": "code",
   "execution_count": null,
   "metadata": {},
   "outputs": [],
   "source": []
  },
  {
   "cell_type": "code",
   "execution_count": 9,
   "metadata": {},
   "outputs": [
    {
     "name": "stdout",
     "output_type": "stream",
     "text": [
      "['a', 'p', 'p', 'l', 'i', 'c', 'a', 't', 'i', 'o', 'n']\n"
     ]
    }
   ],
   "source": [
    "# string to list\n",
    "li=[]\n",
    "for i in range(len(s1)):\n",
    "    li.append(s1[i])\n",
    "print(li)"
   ]
  },
  {
   "cell_type": "markdown",
   "metadata": {},
   "source": [
    "### ASCII System\n",
    "- A-Z --65-90\n",
    "- a-z -- 97-122\n",
    "- 0-9 -- 48-57\n",
    "- space -- 32"
   ]
  },
  {
   "cell_type": "code",
   "execution_count": 14,
   "metadata": {},
   "outputs": [
    {
     "name": "stdout",
     "output_type": "stream",
     "text": [
      "a 97 A 65\n"
     ]
    }
   ],
   "source": [
    "s ='a'\n",
    "s1 = 'A'\n",
    "print(s,ord(s),s1,ord(s1))"
   ]
  },
  {
   "cell_type": "code",
   "execution_count": 40,
   "metadata": {},
   "outputs": [
    {
     "name": "stdout",
     "output_type": "stream",
     "text": [
      "a 97 b 98 c 99 d 100 e 101 f 102 g 103 h 104 i 105 j 106 k 107 l 108 m 109 n 110 o 111 p 112 q 113 r 114 s 115 t 116 u 117 v 118 w 119 x 120 y 121 z 122 "
     ]
    }
   ],
   "source": [
    "for i in range(97,123):\n",
    "    print(chr(i),end =' ')\n",
    "    print(i,end =' ')"
   ]
  },
  {
   "cell_type": "code",
   "execution_count": 37,
   "metadata": {},
   "outputs": [
    {
     "name": "stdout",
     "output_type": "stream",
     "text": [
      "8\n",
      "2\n",
      "10\n"
     ]
    }
   ],
   "source": [
    "s='ac8AB2'\n",
    "sum=0\n",
    "for i in range(len(s)):\n",
    "    z=ord(s[i])\n",
    "    if z>=48 and z<=58:\n",
    "        x=int(chr(z))\n",
    "        sum=sum+x\n",
    "        print(x)\n",
    "print(sum)    "
   ]
  },
  {
   "cell_type": "code",
   "execution_count": 36,
   "metadata": {},
   "outputs": [
    {
     "name": "stdout",
     "output_type": "stream",
     "text": [
      "8 <class 'str'>\n"
     ]
    }
   ],
   "source": [
    "s=56\n",
    "b=chr(s)\n",
    "print(b,type(b))"
   ]
  },
  {
   "cell_type": "code",
   "execution_count": 42,
   "metadata": {},
   "outputs": [
    {
     "name": "stdout",
     "output_type": "stream",
     "text": [
      "A 65 B 66 C 67 D 68 E 69 F 70 G 71 H 72 I 73 J 74 K 75 L 76 M 77 N 78 O 79 P 80 Q 81 R 82 S 83 T 84 U 85 V 86 W 87 X 88 Y 89 Z 90 "
     ]
    }
   ],
   "source": [
    "for i in range(65,91):\n",
    "    print(chr(i),end =' ')\n",
    "    print(i,end =' ')"
   ]
  },
  {
   "cell_type": "code",
   "execution_count": 13,
   "metadata": {},
   "outputs": [
    {
     "name": "stdout",
     "output_type": "stream",
     "text": [
      "0 1 2 3 4 5 6 7 8 9 "
     ]
    }
   ],
   "source": [
    "for i in range(48,58):\n",
    "    print(chr(i),end =' ')"
   ]
  },
  {
   "cell_type": "markdown",
   "metadata": {},
   "source": [
    "### String Programs"
   ]
  },
  {
   "cell_type": "code",
   "execution_count": 52,
   "metadata": {},
   "outputs": [
    {
     "data": {
      "text/plain": [
       "'dHYAnAHitA'"
      ]
     },
     "execution_count": 52,
     "metadata": {},
     "output_type": "execute_result"
    }
   ],
   "source": [
    "# read the input as string and change the input case\n",
    "# input : DhyaNahITa\n",
    "#output : dHYAnAHita\n",
    "\n",
    "def changecase(s):\n",
    "    # body for the function\n",
    "    s1=''\n",
    "    for i in range(len(s)):\n",
    "        if ord(s[i]) >= 65 and ord(s[i])<=90:\n",
    "            s1 += chr(ord(s[i]) +32)\n",
    "        elif ord(s[i]) >= 97 and ord(s[i])<=122:\n",
    "            s1 += chr(ord(s[i]) - 32)\n",
    "    return s1\n",
    "changecase('DhyaNahITa')"
   ]
  },
  {
   "cell_type": "code",
   "execution_count": 53,
   "metadata": {},
   "outputs": [
    {
     "name": "stdout",
     "output_type": "stream",
     "text": [
      "dHYAnAHitA"
     ]
    }
   ],
   "source": [
    "def changecase(s):\n",
    "    # body for the function\n",
    "    for i in range(len(s)):\n",
    "        if ord(s[i]) >= 65 and ord(s[i])<=90:\n",
    "            s1 = chr(ord(s[i]) +32)\n",
    "        elif ord(s[i]) >= 97 and ord(s[i])<=122:\n",
    "            s1 = chr(ord(s[i]) - 32)\n",
    "        print(s1,end='')\n",
    "    return\n",
    "changecase('DhyaNahITa')"
   ]
  },
  {
   "cell_type": "code",
   "execution_count": 6,
   "metadata": {},
   "outputs": [
    {
     "name": "stdout",
     "output_type": "stream",
     "text": [
      "a\n",
      "A\n"
     ]
    }
   ],
   "source": [
    "s = 'A'\n",
    "s1 ='a'\n",
    "s = chr(ord(s)+32)\n",
    "s1 = chr(ord(s)-32)\n",
    "print(s)\n",
    "print(s1)"
   ]
  },
  {
   "cell_type": "code",
   "execution_count": 55,
   "metadata": {},
   "outputs": [
    {
     "data": {
      "text/plain": [
       "26"
      ]
     },
     "execution_count": 55,
     "metadata": {},
     "output_type": "execute_result"
    }
   ],
   "source": [
    "#Read the input as string and print the sum of the digits\n",
    "# Dhy1ah8h8it9a -- 26(1+8+8+9)\n",
    "def digitsum(s):\n",
    "    sum=0\n",
    "    for i in range(len(s)):\n",
    "        if ord(s[i]) >= 48 and ord(s[i ])<= 57:\n",
    "            sum+=(ord(s[i])-48)  # convert the ascii number to decimal format\n",
    "    return sum\n",
    "digitsum('Dhy1ah8h8it9a')"
   ]
  },
  {
   "cell_type": "code",
   "execution_count": 38,
   "metadata": {},
   "outputs": [
    {
     "data": {
      "text/plain": [
       "26"
      ]
     },
     "execution_count": 38,
     "metadata": {},
     "output_type": "execute_result"
    }
   ],
   "source": [
    "def digitsum(s):\n",
    "    sum=0\n",
    "    for i in range(len(s)):\n",
    "        if ord(s[i]) >= 48 and ord(s[i ])<= 57:\n",
    "            sum=sum+int(chr(ord(s[i])))\n",
    "           # print(sum)\n",
    "    return sum\n",
    "digitsum('Dhy1ah8h8it9a')"
   ]
  },
  {
   "cell_type": "code",
   "execution_count": 40,
   "metadata": {},
   "outputs": [
    {
     "name": "stdout",
     "output_type": "stream",
     "text": [
      "8\n",
      "2\n",
      "10\n"
     ]
    }
   ],
   "source": [
    "#for understanding easy way\n",
    "s='ac8AB2'\n",
    "sum=0\n",
    "for i in range(len(s)):\n",
    "    z=ord(s[i])\n",
    "    if z>=48 and z<=58:\n",
    "        x=int(chr(z))\n",
    "        sum=sum+x\n",
    "        print(x)\n",
    "print(sum)   "
   ]
  },
  {
   "cell_type": "code",
   "execution_count": null,
   "metadata": {},
   "outputs": [],
   "source": []
  },
  {
   "cell_type": "code",
   "execution_count": null,
   "metadata": {},
   "outputs": [],
   "source": []
  },
  {
   "cell_type": "code",
   "execution_count": null,
   "metadata": {},
   "outputs": [],
   "source": []
  }
 ],
 "metadata": {
  "kernelspec": {
   "display_name": "Python 3",
   "language": "python",
   "name": "python3"
  },
  "language_info": {
   "codemirror_mode": {
    "name": "ipython",
    "version": 3
   },
   "file_extension": ".py",
   "mimetype": "text/x-python",
   "name": "python",
   "nbconvert_exporter": "python",
   "pygments_lexer": "ipython3",
   "version": "3.7.6"
  }
 },
 "nbformat": 4,
 "nbformat_minor": 4
}
