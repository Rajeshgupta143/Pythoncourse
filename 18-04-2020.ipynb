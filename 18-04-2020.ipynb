{
 "cells": [
  {
   "cell_type": "markdown",
   "metadata": {},
   "source": [
    "### String and String related Examples"
   ]
  },
  {
   "cell_type": "code",
   "execution_count": 1,
   "metadata": {},
   "outputs": [
    {
     "name": "stdout",
     "output_type": "stream",
     "text": [
      "application <class 'str'>\n"
     ]
    }
   ],
   "source": [
    "#String Slicing\n",
    "s='application'\n",
    "print(s,type(s))"
   ]
  },
  {
   "cell_type": "code",
   "execution_count": 3,
   "metadata": {},
   "outputs": [
    {
     "name": "stdout",
     "output_type": "stream",
     "text": [
      "a\n",
      "p\n",
      "c\n",
      "appl\n",
      "application\n"
     ]
    }
   ],
   "source": [
    "print(s[0]) # access the character from the 0th Index\n",
    "print(s[1])  # Access the first index of the string\n",
    "print(s[5])\n",
    "print(s[0:4]) # Access the string from 0th index till 4th Index\n",
    "print(s[0:])\n"
   ]
  },
  {
   "cell_type": "code",
   "execution_count": 4,
   "metadata": {},
   "outputs": [
    {
     "name": "stdout",
     "output_type": "stream",
     "text": [
      "n\n",
      "ion\n",
      "lication\n"
     ]
    }
   ],
   "source": [
    "print(s[-1])  #access the character from the last position\n",
    "print(s[-3:])  # access the last three charcter of the string\n",
    "print(s[3:])   # access the string from the third index till the last\n"
   ]
  },
  {
   "cell_type": "code",
   "execution_count": 6,
   "metadata": {},
   "outputs": [
    {
     "name": "stdout",
     "output_type": "stream",
     "text": [
      "pplicatio\n",
      "plicati\n",
      "licatio\n"
     ]
    }
   ],
   "source": [
    "print(s[1:-1]) # print all the charcters except first and last\n",
    "print(s[2:-2]) # print all the charcters except first two and last two\n",
    "print(s[3:-1])"
   ]
  },
  {
   "cell_type": "code",
   "execution_count": 5,
   "metadata": {},
   "outputs": [
    {
     "name": "stdout",
     "output_type": "stream",
     "text": [
      "noitacilppa\n"
     ]
    }
   ],
   "source": [
    "# reverse the string\n",
    "print(s[-1::-1])"
   ]
  },
  {
   "cell_type": "code",
   "execution_count": 7,
   "metadata": {},
   "outputs": [
    {
     "data": {
      "text/plain": [
       "'nohtyp'"
      ]
     },
     "execution_count": 7,
     "metadata": {},
     "output_type": "execute_result"
    }
   ],
   "source": [
    "# define a function for reverse the string\n",
    "def stringreverse(s):\n",
    "    return s[-1::-1]\n",
    "stringreverse('python')"
   ]
  },
  {
   "cell_type": "code",
   "execution_count": 13,
   "metadata": {},
   "outputs": [
    {
     "data": {
      "text/plain": [
       "True"
      ]
     },
     "execution_count": 13,
     "metadata": {},
     "output_type": "execute_result"
    }
   ],
   "source": [
    "# define a function for find the string is palindrome\n",
    "def palindrome(s):\n",
    "    if s == s[-1::-1]:\n",
    "        return True\n",
    "    return False\n",
    "palindrome('ganag')\n",
    "    "
   ]
  },
  {
   "cell_type": "code",
   "execution_count": 10,
   "metadata": {},
   "outputs": [
    {
     "name": "stdout",
     "output_type": "stream",
     "text": [
      "pplication\n",
      "applicatio\n",
      "\n",
      "o\n"
     ]
    }
   ],
   "source": [
    "print(s[1:])\n",
    "print(s[:-1])\n",
    "print(s[-1:-1])\n",
    "print(s[-2:-1])"
   ]
  },
  {
   "cell_type": "code",
   "execution_count": 11,
   "metadata": {},
   "outputs": [
    {
     "name": "stdout",
     "output_type": "stream",
     "text": [
      "no\n",
      "apiain\n",
      "alao\n"
     ]
    }
   ],
   "source": [
    "print(s[-1:-3:-1])\n",
    "print(s[::2])# alternate two charecters\n",
    "print(s[::3])#alternate three charecters"
   ]
  },
  {
   "cell_type": "code",
   "execution_count": 12,
   "metadata": {},
   "outputs": [
    {
     "name": "stdout",
     "output_type": "stream",
     "text": [
      "noitacilppa\n"
     ]
    }
   ],
   "source": [
    "print(s[-1::-1])# reverse the string"
   ]
  },
  {
   "cell_type": "code",
   "execution_count": 17,
   "metadata": {},
   "outputs": [
    {
     "name": "stdout",
     "output_type": "stream",
     "text": [
      "Python String concept easy to Learn\n"
     ]
    },
    {
     "data": {
      "text/plain": [
       "'STRING'"
      ]
     },
     "execution_count": 17,
     "metadata": {},
     "output_type": "execute_result"
    }
   ],
   "source": [
    "#Read the string as input and print 2nd word in upper case\n",
    "#input : Python String concept easy to Learn\n",
    "#output : STRING\n",
    "def stringword(data):\n",
    "    li=data.split()\n",
    "    x=li[1].upper()\n",
    "    return x\n",
    "a=input()\n",
    "stringword(a)"
   ]
  },
  {
   "cell_type": "code",
   "execution_count": 16,
   "metadata": {},
   "outputs": [
    {
     "name": "stdout",
     "output_type": "stream",
     "text": [
      "STRING\n"
     ]
    }
   ],
   "source": [
    "x=('Python string concept easy to learn')\n",
    "print(x[7:13].upper())"
   ]
  },
  {
   "cell_type": "code",
   "execution_count": 24,
   "metadata": {},
   "outputs": [
    {
     "name": "stdout",
     "output_type": "stream",
     "text": [
      "Python Programming Makes Python Easy\n",
      "Python\n"
     ]
    },
    {
     "data": {
      "text/plain": [
       "2"
      ]
     },
     "execution_count": 24,
     "metadata": {},
     "output_type": "execute_result"
    }
   ],
   "source": [
    "# read two strin a input\n",
    "# input : Python Programming Makes Python Easy\n",
    "# inputc: Python\n",
    "# output : 2\n",
    "def stringspecific(data,word):\n",
    "    cnt=0\n",
    "    li=data.split()\n",
    "    for i in range(len(li)):\n",
    "        if li[i] == word:\n",
    "            cnt=cnt+1\n",
    "    return cnt\n",
    "data=input()\n",
    "data1=input()\n",
    "stringspecific(data,'Python')\n",
    "\n",
    "\n",
    "    "
   ]
  },
  {
   "cell_type": "code",
   "execution_count": 25,
   "metadata": {},
   "outputs": [
    {
     "name": "stdout",
     "output_type": "stream",
     "text": [
      "Python Programming Makes Python Easy\n",
      "Python\n"
     ]
    },
    {
     "data": {
      "text/plain": [
       "2"
      ]
     },
     "execution_count": 25,
     "metadata": {},
     "output_type": "execute_result"
    }
   ],
   "source": [
    "# read two strin a input\n",
    "# input : Python Programming Makes Python Easy\n",
    "# inputc: Python\n",
    "# output : 2\n",
    "def substringcount(s,substr):\n",
    "    return s.count(substr)\n",
    "s=input()\n",
    "substr=input()\n",
    "substringcount(s,substr)"
   ]
  },
  {
   "cell_type": "markdown",
   "metadata": {},
   "source": [
    "### String Formatting\n",
    "- Classical Formating\n",
    "- Current Formatting in python"
   ]
  },
  {
   "cell_type": "code",
   "execution_count": 2,
   "metadata": {},
   "outputs": [
    {
     "name": "stdout",
     "output_type": "stream",
     "text": [
      "1 2 3 4\n"
     ]
    }
   ],
   "source": [
    "# Class version\n",
    "li = [1,2,3,4]\n",
    "print('%d %d %d %d' % (li[0],li[1],li[2],li[3]))"
   ]
  },
  {
   "cell_type": "code",
   "execution_count": 37,
   "metadata": {},
   "outputs": [
    {
     "name": "stdout",
     "output_type": "stream",
     "text": [
      "1.123450\n",
      "1.12\n"
     ]
    }
   ],
   "source": [
    "x = 1.12345\n",
    "print('%f' % x)\n",
    "print('%.2f' % x) # 2f is use for only give two decimal point"
   ]
  },
  {
   "cell_type": "code",
   "execution_count": 29,
   "metadata": {},
   "outputs": [
    {
     "name": "stdout",
     "output_type": "stream",
     "text": [
      "1 2 3 4\n"
     ]
    }
   ],
   "source": [
    "# Current verasion\n",
    "li = [1,2,3,4]\n",
    "print('{0} {1} {2} {3}'.format(li[0],li[1],li[2],li[3]))"
   ]
  },
  {
   "cell_type": "code",
   "execution_count": 31,
   "metadata": {},
   "outputs": [
    {
     "name": "stdout",
     "output_type": "stream",
     "text": [
      "python makes programming ml\n"
     ]
    }
   ],
   "source": [
    "#Classical version\n",
    "li = ['python','makes','programming','ml']\n",
    "print('%s %s %s %s' % (li[0],li[1],li[2],li[3]))"
   ]
  },
  {
   "cell_type": "code",
   "execution_count": 32,
   "metadata": {},
   "outputs": [
    {
     "name": "stdout",
     "output_type": "stream",
     "text": [
      "python makes programming ml\n"
     ]
    }
   ],
   "source": [
    "li = ['python','makes','programming','ml']\n",
    "print('{0} {1} {2} {3}'.format(li[0],li[1],li[2],li[3]))"
   ]
  },
  {
   "cell_type": "markdown",
   "metadata": {},
   "source": [
    "### String Functions\n",
    "- lower()\n",
    "- upper()\n",
    "- islower()\n",
    "- isupper()\n",
    "- isdigit()\n",
    "- istitle()\n",
    "- isnumeric()\n",
    "- isalpha()\n",
    "- isspace()"
   ]
  },
  {
   "cell_type": "code",
   "execution_count": 40,
   "metadata": {},
   "outputs": [
    {
     "name": "stdout",
     "output_type": "stream",
     "text": [
      "application\n",
      "APPLICATION\n",
      "aPPLIcATiON\n"
     ]
    }
   ],
   "source": [
    "s = 'AppliCatIon'\n",
    "print(s.lower())\n",
    "print(s.upper())\n",
    "print(s.swapcase())  # it use for convert the upper to lower and lower to upper"
   ]
  },
  {
   "cell_type": "code",
   "execution_count": 36,
   "metadata": {},
   "outputs": [
    {
     "name": "stdout",
     "output_type": "stream",
     "text": [
      "False\n",
      "False\n",
      "True\n",
      "True\n",
      "False\n",
      "False\n"
     ]
    }
   ],
   "source": [
    "s='1'\n",
    "print(s.islower())\n",
    "print(s.isupper())\n",
    "print(s.isdigit())\n",
    "print(s.isnumeric())\n",
    "print(s.isalpha())\n",
    "print(s.isspace())"
   ]
  },
  {
   "cell_type": "code",
   "execution_count": null,
   "metadata": {},
   "outputs": [],
   "source": []
  }
 ],
 "metadata": {
  "kernelspec": {
   "display_name": "Python 3",
   "language": "python",
   "name": "python3"
  },
  "language_info": {
   "codemirror_mode": {
    "name": "ipython",
    "version": 3
   },
   "file_extension": ".py",
   "mimetype": "text/x-python",
   "name": "python",
   "nbconvert_exporter": "python",
   "pygments_lexer": "ipython3",
   "version": "3.7.6"
  }
 },
 "nbformat": 4,
 "nbformat_minor": 4
}
