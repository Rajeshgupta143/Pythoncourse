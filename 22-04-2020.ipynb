{
 "cells": [
  {
   "cell_type": "code",
   "execution_count": 1,
   "metadata": {},
   "outputs": [],
   "source": [
    "import re\n"
   ]
  },
  {
   "cell_type": "code",
   "execution_count": null,
   "metadata": {},
   "outputs": [],
   "source": [
    "# let's define Regular Expression for password\n",
    "# should have min i lower case\n",
    "# Should have min 1 upper case \n",
    "# should have min 1 digit\n",
    "#Should have one spl char -   $ @ !\n",
    "# Over all len of the password should be min 6 and max 15"
   ]
  },
  {
   "cell_type": "code",
   "execution_count": 2,
   "metadata": {},
   "outputs": [
    {
     "name": "stdout",
     "output_type": "stream",
     "text": [
      "True\n",
      "False\n"
     ]
    }
   ],
   "source": [
    "def passwordtester(password):\n",
    "    pattern = '^((?=.*[a-z])(?=.*[A-Z])(?=.*[@$!])(?=.*[0-9])).{6,15}$'\n",
    "    if re.match(pattern,password):\n",
    "        return True\n",
    "    return False\n",
    "print(passwordtester('Anil@1889'))\n",
    "print(passwordtester('anil@1889'))"
   ]
  },
  {
   "cell_type": "markdown",
   "metadata": {},
   "source": [
    "### Object Oriented Programming in Python\n",
    "- Class\n",
    "- Object\n",
    "- Methods\n",
    "- Constructors\n",
    "- Inheritance\n",
    "### Class\n",
    "- class is collation f data members and member functions\n",
    "- class is logical entity\n",
    "- class in python can be defined by class keyword\n",
    "- class name is always starts with upper case character"
   ]
  },
  {
   "cell_type": "code",
   "execution_count": null,
   "metadata": {},
   "outputs": [],
   "source": [
    "class demo:\n",
    "    # Method\n",
    "    def test(self):  # self is keyword of python\n",
    "        print('Test method from demo class')\n",
    "        return\n",
    "obj = demo()  # object creating or instance\n",
    "obj.test()  # calling the method"
   ]
  },
  {
   "cell_type": "code",
   "execution_count": null,
   "metadata": {},
   "outputs": [],
   "source": [
    "self represent the instance of the class\n",
    "self is used to access the metods and variable"
   ]
  },
  {
   "cell_type": "code",
   "execution_count": 5,
   "metadata": {},
   "outputs": [
    {
     "name": "stdout",
     "output_type": "stream",
     "text": [
      "Your name is Rajesh\n"
     ]
    }
   ],
   "source": [
    "class Demo1:\n",
    "    def Test(self,name):\n",
    "        print('Your name is',name)\n",
    "        return\n",
    "obj1 = Demo1()\n",
    "obj1.Test('Rajesh')"
   ]
  },
  {
   "cell_type": "code",
   "execution_count": 8,
   "metadata": {},
   "outputs": [
    {
     "name": "stdout",
     "output_type": "stream",
     "text": [
      "Anil@1889\n"
     ]
    },
    {
     "data": {
      "text/plain": [
       "True"
      ]
     },
     "execution_count": 8,
     "metadata": {},
     "output_type": "execute_result"
    }
   ],
   "source": [
    "class demo2:\n",
    "        def passwordtester(self,password):\n",
    "            pattern = '^((?=.*[a-z])(?=.*[A-Z])(?=.*[@$!])(?=.*[0-9])).{6,15}$'\n",
    "            if re.match(pattern,password):\n",
    "                return True\n",
    "            return False\n",
    "obj = demo2()\n",
    "password=input()\n",
    "obj.passwordtester(password)"
   ]
  },
  {
   "cell_type": "code",
   "execution_count": 6,
   "metadata": {},
   "outputs": [
    {
     "data": {
      "text/plain": [
       "6"
      ]
     },
     "execution_count": 6,
     "metadata": {},
     "output_type": "execute_result"
    }
   ],
   "source": [
    "class Demo3:\n",
    "    def add(self,x,y,z):\n",
    "        return x+y+z\n",
    "p1 = Demo3()\n",
    "p1.add(1,2,3)"
   ]
  },
  {
   "cell_type": "code",
   "execution_count": null,
   "metadata": {},
   "outputs": [],
   "source": [
    "# Explore the class and object in python\n",
    "# Experiment differnt methods in a class\n",
    "# Take 2 parameters and 3 paramters\n",
    "# return value from method\n",
    "# Don't return the value from the method\n",
    "\n"
   ]
  },
  {
   "cell_type": "code",
   "execution_count": 7,
   "metadata": {},
   "outputs": [
    {
     "name": "stdout",
     "output_type": "stream",
     "text": [
      "5\n"
     ]
    },
    {
     "data": {
      "text/plain": [
       "120"
      ]
     },
     "execution_count": 7,
     "metadata": {},
     "output_type": "execute_result"
    }
   ],
   "source": [
    "class practice:\n",
    "    def factorial(self,fact):\n",
    "        num=1\n",
    "        for i in range(1,fact+1):\n",
    "            num=num*i\n",
    "        return num\n",
    "fact=int(input())\n",
    "obj=practice()\n",
    "obj.factorial(fact)"
   ]
  },
  {
   "cell_type": "code",
   "execution_count": 1,
   "metadata": {},
   "outputs": [
    {
     "name": "stdout",
     "output_type": "stream",
     "text": [
      "1234\n"
     ]
    },
    {
     "data": {
      "text/plain": [
       "4321"
      ]
     },
     "execution_count": 1,
     "metadata": {},
     "output_type": "execute_result"
    }
   ],
   "source": [
    "class practice1:\n",
    "    def reverse(self,rev):\n",
    "        z=0\n",
    "        while(rev>=1):\n",
    "            x=rev%10\n",
    "            z=z*10+x\n",
    "            rev=rev//10\n",
    "        return z\n",
    "rev=int(input())\n",
    "obj=practice1()\n",
    "obj.reverse(rev)"
   ]
  },
  {
   "cell_type": "code",
   "execution_count": null,
   "metadata": {},
   "outputs": [],
   "source": []
  },
  {
   "cell_type": "code",
   "execution_count": null,
   "metadata": {},
   "outputs": [],
   "source": []
  },
  {
   "cell_type": "code",
   "execution_count": null,
   "metadata": {},
   "outputs": [],
   "source": []
  }
 ],
 "metadata": {
  "kernelspec": {
   "display_name": "Python 3",
   "language": "python",
   "name": "python3"
  },
  "language_info": {
   "codemirror_mode": {
    "name": "ipython",
    "version": 3
   },
   "file_extension": ".py",
   "mimetype": "text/x-python",
   "name": "python",
   "nbconvert_exporter": "python",
   "pygments_lexer": "ipython3",
   "version": "3.7.6"
  }
 },
 "nbformat": 4,
 "nbformat_minor": 4
}
