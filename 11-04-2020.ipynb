{
 "cells": [
  {
   "cell_type": "markdown",
   "metadata": {},
   "source": [
    "### List methods "
   ]
  },
  {
   "cell_type": "code",
   "execution_count": 3,
   "metadata": {},
   "outputs": [],
   "source": [
    "li=[1,23,12,43,199,99,45]"
   ]
  },
  {
   "cell_type": "code",
   "execution_count": 4,
   "metadata": {},
   "outputs": [
    {
     "name": "stdout",
     "output_type": "stream",
     "text": [
      "[1, 23, 12, 43, 199, 99, 45, 199]\n"
     ]
    }
   ],
   "source": [
    "li.append(199)\n",
    "print(li)"
   ]
  },
  {
   "cell_type": "code",
   "execution_count": 5,
   "metadata": {},
   "outputs": [
    {
     "data": {
      "text/plain": [
       "2"
      ]
     },
     "execution_count": 5,
     "metadata": {},
     "output_type": "execute_result"
    }
   ],
   "source": [
    "li.count(199)"
   ]
  },
  {
   "cell_type": "code",
   "execution_count": 6,
   "metadata": {},
   "outputs": [
    {
     "data": {
      "text/plain": [
       "0"
      ]
     },
     "execution_count": 6,
     "metadata": {},
     "output_type": "execute_result"
    }
   ],
   "source": [
    "li.count(100)"
   ]
  },
  {
   "cell_type": "code",
   "execution_count": 9,
   "metadata": {},
   "outputs": [
    {
     "name": "stdout",
     "output_type": "stream",
     "text": [
      "[199, 45, 99, 199, 43, 12, 23, 1]\n"
     ]
    }
   ],
   "source": [
    "li.reverse()#reverse the list object\n",
    "print(li)"
   ]
  },
  {
   "cell_type": "code",
   "execution_count": 10,
   "metadata": {},
   "outputs": [
    {
     "name": "stdout",
     "output_type": "stream",
     "text": [
      "[1, 12, 23, 43, 45, 99, 199, 199]\n"
     ]
    }
   ],
   "source": [
    "li.sort()#sorts the list\n",
    "print(li)"
   ]
  },
  {
   "cell_type": "code",
   "execution_count": 11,
   "metadata": {},
   "outputs": [
    {
     "data": {
      "text/plain": [
       "199"
      ]
     },
     "execution_count": 11,
     "metadata": {},
     "output_type": "execute_result"
    }
   ],
   "source": [
    "li.pop()"
   ]
  },
  {
   "cell_type": "code",
   "execution_count": 12,
   "metadata": {},
   "outputs": [
    {
     "data": {
      "text/plain": [
       "[1, 12, 23, 43, 45, 99, 199]"
      ]
     },
     "execution_count": 12,
     "metadata": {},
     "output_type": "execute_result"
    }
   ],
   "source": [
    "li"
   ]
  },
  {
   "cell_type": "code",
   "execution_count": 13,
   "metadata": {},
   "outputs": [
    {
     "data": {
      "text/plain": [
       "23"
      ]
     },
     "execution_count": 13,
     "metadata": {},
     "output_type": "execute_result"
    }
   ],
   "source": [
    "li.pop(2)# it will delete the list item value from 2nd index"
   ]
  },
  {
   "cell_type": "code",
   "execution_count": 14,
   "metadata": {},
   "outputs": [
    {
     "data": {
      "text/plain": [
       "[1, 12, 43, 45, 99, 199]"
      ]
     },
     "execution_count": 14,
     "metadata": {},
     "output_type": "execute_result"
    }
   ],
   "source": [
    "li\n"
   ]
  },
  {
   "cell_type": "code",
   "execution_count": 15,
   "metadata": {},
   "outputs": [],
   "source": [
    "li.remove(43)"
   ]
  },
  {
   "cell_type": "code",
   "execution_count": 16,
   "metadata": {},
   "outputs": [
    {
     "data": {
      "text/plain": [
       "[1, 12, 45, 99, 199]"
      ]
     },
     "execution_count": 16,
     "metadata": {},
     "output_type": "execute_result"
    }
   ],
   "source": [
    "li\n"
   ]
  },
  {
   "cell_type": "markdown",
   "metadata": {},
   "source": [
    "### Functional programming\n",
    "- Group of statement which can perform a specific task called as **Function** \n",
    "- can be used for code useability\n",
    "- Functional programming makes the program can be divided into multiple sub blocks\n",
    "- When the program is divided into multiple sub blocks then readability\n",
    "- in Python function can be defined with def keyword"
   ]
  },
  {
   "cell_type": "code",
   "execution_count": null,
   "metadata": {},
   "outputs": [],
   "source": [
    "def <funname>(<parameters>):\n",
    "    statements\n",
    "    return\n",
    "#funName has to be write in terms of camel case \n",
    "# fun() isprime() is primetest()"
   ]
  },
  {
   "cell_type": "code",
   "execution_count": 17,
   "metadata": {},
   "outputs": [
    {
     "name": "stdout",
     "output_type": "stream",
     "text": [
      "10\n",
      "20\n",
      "30\n"
     ]
    }
   ],
   "source": [
    "# Let's define a function with no parameters and no return\n",
    "def addtwonumber():\n",
    "    x=int(input())\n",
    "    y=int(input())\n",
    "    print(x+y)\n",
    "    return\n",
    "addtwonumber()"
   ]
  },
  {
   "cell_type": "code",
   "execution_count": 18,
   "metadata": {},
   "outputs": [
    {
     "name": "stdout",
     "output_type": "stream",
     "text": [
      "200\n"
     ]
    }
   ],
   "source": [
    "#let's define a function with input parameter and no return value\n",
    "def multiply(x,y):\n",
    "    print(x*y)\n",
    "    return\n",
    "multiply(10,20)"
   ]
  },
  {
   "cell_type": "code",
   "execution_count": 23,
   "metadata": {},
   "outputs": [
    {
     "data": {
      "text/plain": [
       "27"
      ]
     },
     "execution_count": 23,
     "metadata": {},
     "output_type": "execute_result"
    }
   ],
   "source": [
    "#let's define a function with paramter and return value\n",
    "def cube(x):\n",
    "    return x*x*x\n",
    "cube(3)\n"
   ]
  },
  {
   "cell_type": "markdown",
   "metadata": {},
   "source": [
    "### note: method is dependent and function is independent"
   ]
  },
  {
   "cell_type": "code",
   "execution_count": 24,
   "metadata": {},
   "outputs": [
    {
     "data": {
      "text/plain": [
       "32"
      ]
     },
     "execution_count": 24,
     "metadata": {},
     "output_type": "execute_result"
    }
   ],
   "source": [
    "# Few method list object\n",
    "#let's define a function to find the second large item of the list\n",
    "def secondlarge(li):\n",
    "    li.sort()\n",
    "    return li[-2]\n",
    "li = [25,1,14,45,32,23]\n",
    "secondlarge(li)"
   ]
  },
  {
   "cell_type": "code",
   "execution_count": 26,
   "metadata": {},
   "outputs": [
    {
     "data": {
      "text/plain": [
       "23"
      ]
     },
     "execution_count": 26,
     "metadata": {},
     "output_type": "execute_result"
    }
   ],
   "source": [
    "def genericlarge(li,n):\n",
    "    li.sort()\n",
    "    return li[-n]\n",
    "li = [25,1,14,45,32,23]\n",
    "genericlarge(li,4)"
   ]
  },
  {
   "cell_type": "code",
   "execution_count": 27,
   "metadata": {},
   "outputs": [
    {
     "data": {
      "text/plain": [
       "[1, 2, 3, 5, 7]"
      ]
     },
     "execution_count": 27,
     "metadata": {},
     "output_type": "execute_result"
    }
   ],
   "source": [
    "def printnprimes(x1,x2):\n",
    "    li=[]\n",
    "    for i in range(x1,x2+1):\n",
    "        for n in range(2,i):\n",
    "            if i%n==0:\n",
    "                break\n",
    "        else:\n",
    "            li.append(i)\n",
    "    return li\n",
    "printnprimes(1,10)"
   ]
  },
  {
   "cell_type": "markdown",
   "metadata": {},
   "source": [
    "### Searching algorithms\n",
    "- Linear search\n",
    "- binary search\n",
    "\n",
    "### Linear search\n",
    "- Linear search algorithm can be applied on unique list as well duplicate list\n",
    "   - unique : the list items are not repeated\n",
    "   - Duplicate : The list items are repeated\n",
    "- Linear search applied on sorted list and Unsorted List\n",
    "- Searching can be starts from 0th index to last index"
   ]
  },
  {
   "cell_type": "code",
   "execution_count": 3,
   "metadata": {},
   "outputs": [
    {
     "data": {
      "text/plain": [
       "(4, 'Target item is found')"
      ]
     },
     "execution_count": 3,
     "metadata": {},
     "output_type": "execute_result"
    }
   ],
   "source": [
    "def linearsearchex1(li,taritem):\n",
    "    for i in range(len(li)):\n",
    "        if li[i] == taritem:\n",
    "            return i,\"Target item is found\"\n",
    "    return -1\n",
    "li=[1,3,9,11,25,12,8]\n",
    "linearsearchex1(li,25)"
   ]
  },
  {
   "cell_type": "code",
   "execution_count": null,
   "metadata": {},
   "outputs": [],
   "source": [
    "#input :[1,5,9,6,5,15,1,2,5] taritem=5\n",
    "#output: 1 4 8\n",
    "# reasons print the index of target item"
   ]
  },
  {
   "cell_type": "code",
   "execution_count": 38,
   "metadata": {},
   "outputs": [
    {
     "data": {
      "text/plain": [
       "[1, 4, 8]"
      ]
     },
     "execution_count": 38,
     "metadata": {},
     "output_type": "execute_result"
    }
   ],
   "source": [
    "def taritemindex(li,taritem):\n",
    "    x=[]\n",
    "    for i in range (len(li)):\n",
    "        if li[i]==taritem:\n",
    "            x.append(i)\n",
    "    return x\n",
    "        \n",
    "li=[1,5,9,6,5,15,1,2,5]\n",
    "taritemindex(li,5)"
   ]
  },
  {
   "cell_type": "code",
   "execution_count": 1,
   "metadata": {},
   "outputs": [
    {
     "name": "stdout",
     "output_type": "stream",
     "text": [
      "1\n",
      "!\n",
      "4\n",
      "!!!!\n",
      "8\n",
      "!!!!!!!!\n"
     ]
    },
    {
     "data": {
      "text/plain": [
       "[1, 4, 8]"
      ]
     },
     "execution_count": 1,
     "metadata": {},
     "output_type": "execute_result"
    }
   ],
   "source": [
    "#input :[1,5,9,6,5,15,1,2,5] taritem=5\n",
    "#output : ! !!!! !!!!!!!! \n",
    "def linearsearchex3(li,taritem):\n",
    "    x=[]\n",
    "    for i in range(len(li)):\n",
    "        if li[i]==taritem:\n",
    "            print(i)\n",
    "            if i==1:\n",
    "                print(\"!\")\n",
    "            elif i==2:\n",
    "                print(\"!!\")\n",
    "            elif i==2:\n",
    "                print(\"!!\")\n",
    "            elif i==3:\n",
    "                print(\"!!!\")\n",
    "            elif i==4:\n",
    "                print(\"!!!!\")\n",
    "            elif i==5:\n",
    "                print(\"!!!!!\")\n",
    "            elif i==6:\n",
    "                print(\"!!!!!!\")\n",
    "            elif i==7:\n",
    "                print(\"!!!!!!!\")\n",
    "            elif i==8:\n",
    "                print(\"!!!!!!!!\")\n",
    "            \n",
    "            x.append(i)\n",
    "    return x\n",
    "li=[1,5,9,6,5,15,1,2,5]\n",
    "linearsearchex3(li,5)\n",
    "\n",
    "                   "
   ]
  },
  {
   "cell_type": "code",
   "execution_count": 49,
   "metadata": {},
   "outputs": [
    {
     "name": "stdout",
     "output_type": "stream",
     "text": [
      " !!   !!!!!    !!!!!!!!! "
     ]
    }
   ],
   "source": [
    "def linearsearchex3(li,taritem):\n",
    "    for i in range(len(li)):\n",
    "        if li[i]==taritem:\n",
    "            for j in range (i+1):\n",
    "                print('!',end='')\n",
    "        print(' ',end='')\n",
    "    return\n",
    "li=[1,5,9,6,5,15,1,2,5]\n",
    "linearsearchex3(li,5)\n",
    "    "
   ]
  },
  {
   "cell_type": "markdown",
   "metadata": {},
   "source": [
    "### Binary Search\n",
    "- Binary Search algorithm is only works on Unique and Sorted List\n",
    "- This algoritm requires the search option from the middle index"
   ]
  },
  {
   "cell_type": "code",
   "execution_count": null,
   "metadata": {},
   "outputs": [],
   "source": []
  },
  {
   "cell_type": "code",
   "execution_count": null,
   "metadata": {},
   "outputs": [],
   "source": []
  },
  {
   "cell_type": "code",
   "execution_count": null,
   "metadata": {},
   "outputs": [],
   "source": []
  }
 ],
 "metadata": {
  "kernelspec": {
   "display_name": "Python 3",
   "language": "python",
   "name": "python3"
  },
  "language_info": {
   "codemirror_mode": {
    "name": "ipython",
    "version": 3
   },
   "file_extension": ".py",
   "mimetype": "text/x-python",
   "name": "python",
   "nbconvert_exporter": "python",
   "pygments_lexer": "ipython3",
   "version": "3.7.6"
  }
 },
 "nbformat": 4,
 "nbformat_minor": 4
}
